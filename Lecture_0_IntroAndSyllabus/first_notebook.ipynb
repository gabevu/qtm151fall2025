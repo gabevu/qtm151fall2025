{
 "cells": [
  {
   "cell_type": "markdown",
   "id": "ef5dd3b1",
   "metadata": {},
   "source": [
    "<span style =\"color:green\"> <font size = \"15\"> This is my first Jupyter Notebook :) </span>"
   ]
  },
  {
   "cell_type": "code",
   "execution_count": 1,
   "id": "447778b4",
   "metadata": {},
   "outputs": [
    {
     "name": "stdout",
     "output_type": "stream",
     "text": [
      "My name is Gabe Vu\n"
     ]
    }
   ],
   "source": [
    "print(\"My name is Gabe Vu\")"
   ]
  }
 ],
 "metadata": {
  "kernelspec": {
   "display_name": "base",
   "language": "python",
   "name": "python3"
  },
  "language_info": {
   "codemirror_mode": {
    "name": "ipython",
    "version": 3
   },
   "file_extension": ".py",
   "mimetype": "text/x-python",
   "name": "python",
   "nbconvert_exporter": "python",
   "pygments_lexer": "ipython3",
   "version": "3.13.5"
  }
 },
 "nbformat": 4,
 "nbformat_minor": 5
}
